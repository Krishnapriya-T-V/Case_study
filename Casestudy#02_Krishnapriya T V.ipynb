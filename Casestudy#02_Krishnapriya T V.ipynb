{
 "cells": [
  {
   "cell_type": "code",
   "execution_count": null,
   "id": "7e6c4b2a",
   "metadata": {},
   "outputs": [],
   "source": [
    "import numpy as np\n",
    "import pandas as pd\n",
    "import matplotlib.pyplot as plt\n",
    "import seaborn as sns"
   ]
  },
  {
   "cell_type": "code",
   "execution_count": null,
   "id": "8c65be50",
   "metadata": {},
   "outputs": [],
   "source": [
    "data1=pd.read_csv ('StudentsPerformance.csv') ##Read the dataset"
   ]
  },
  {
   "cell_type": "code",
   "execution_count": 3,
   "id": "38a51290",
   "metadata": {},
   "outputs": [
    {
     "data": {
      "text/html": [
       "<div>\n",
       "<style scoped>\n",
       "    .dataframe tbody tr th:only-of-type {\n",
       "        vertical-align: middle;\n",
       "    }\n",
       "\n",
       "    .dataframe tbody tr th {\n",
       "        vertical-align: top;\n",
       "    }\n",
       "\n",
       "    .dataframe thead th {\n",
       "        text-align: right;\n",
       "    }\n",
       "</style>\n",
       "<table border=\"1\" class=\"dataframe\">\n",
       "  <thead>\n",
       "    <tr style=\"text-align: right;\">\n",
       "      <th></th>\n",
       "      <th>gender</th>\n",
       "      <th>race/ethnicity</th>\n",
       "      <th>parental level of education</th>\n",
       "      <th>lunch</th>\n",
       "      <th>test preparation course</th>\n",
       "      <th>math score</th>\n",
       "      <th>reading score</th>\n",
       "      <th>writing score</th>\n",
       "    </tr>\n",
       "  </thead>\n",
       "  <tbody>\n",
       "    <tr>\n",
       "      <th>0</th>\n",
       "      <td>female</td>\n",
       "      <td>group C</td>\n",
       "      <td>some high school</td>\n",
       "      <td>free/reduced</td>\n",
       "      <td>none</td>\n",
       "      <td>0</td>\n",
       "      <td>17</td>\n",
       "      <td>10</td>\n",
       "    </tr>\n",
       "    <tr>\n",
       "      <th>1</th>\n",
       "      <td>female</td>\n",
       "      <td>group B</td>\n",
       "      <td>high school</td>\n",
       "      <td>free/reduced</td>\n",
       "      <td>none</td>\n",
       "      <td>8</td>\n",
       "      <td>24</td>\n",
       "      <td>23</td>\n",
       "    </tr>\n",
       "    <tr>\n",
       "      <th>2</th>\n",
       "      <td>female</td>\n",
       "      <td>group B</td>\n",
       "      <td>some high school</td>\n",
       "      <td>free/reduced</td>\n",
       "      <td>none</td>\n",
       "      <td>18</td>\n",
       "      <td>32</td>\n",
       "      <td>28</td>\n",
       "    </tr>\n",
       "    <tr>\n",
       "      <th>3</th>\n",
       "      <td>female</td>\n",
       "      <td>group B</td>\n",
       "      <td>some college</td>\n",
       "      <td>standard</td>\n",
       "      <td>none</td>\n",
       "      <td>11</td>\n",
       "      <td>38</td>\n",
       "      <td>32</td>\n",
       "    </tr>\n",
       "    <tr>\n",
       "      <th>4</th>\n",
       "      <td>female</td>\n",
       "      <td>group C</td>\n",
       "      <td>some college</td>\n",
       "      <td>free/reduced</td>\n",
       "      <td>none</td>\n",
       "      <td>22</td>\n",
       "      <td>39</td>\n",
       "      <td>33</td>\n",
       "    </tr>\n",
       "  </tbody>\n",
       "</table>\n",
       "</div>"
      ],
      "text/plain": [
       "   gender race/ethnicity parental level of education         lunch  \\\n",
       "0  female        group C            some high school  free/reduced   \n",
       "1  female        group B                 high school  free/reduced   \n",
       "2  female        group B            some high school  free/reduced   \n",
       "3  female        group B                some college      standard   \n",
       "4  female        group C                some college  free/reduced   \n",
       "\n",
       "  test preparation course  math score  reading score  writing score  \n",
       "0                    none           0             17             10  \n",
       "1                    none           8             24             23  \n",
       "2                    none          18             32             28  \n",
       "3                    none          11             38             32  \n",
       "4                    none          22             39             33  "
      ]
     },
     "execution_count": 3,
     "metadata": {},
     "output_type": "execute_result"
    }
   ],
   "source": [
    "data1.head()"
   ]
  },
  {
   "cell_type": "markdown",
   "id": "862917d9",
   "metadata": {},
   "source": [
    "# 1. Find out how many males and females participated in the test."
   ]
  },
  {
   "cell_type": "code",
   "execution_count": null,
   "id": "23e388cc",
   "metadata": {},
   "outputs": [],
   "source": [
    "##counting no.of female and male"
   ]
  },
  {
   "cell_type": "code",
   "execution_count": 83,
   "id": "9362687b",
   "metadata": {},
   "outputs": [
    {
     "data": {
      "text/html": [
       "<div>\n",
       "<style scoped>\n",
       "    .dataframe tbody tr th:only-of-type {\n",
       "        vertical-align: middle;\n",
       "    }\n",
       "\n",
       "    .dataframe tbody tr th {\n",
       "        vertical-align: top;\n",
       "    }\n",
       "\n",
       "    .dataframe thead th {\n",
       "        text-align: right;\n",
       "    }\n",
       "</style>\n",
       "<table border=\"1\" class=\"dataframe\">\n",
       "  <thead>\n",
       "    <tr style=\"text-align: right;\">\n",
       "      <th></th>\n",
       "      <th>gender</th>\n",
       "    </tr>\n",
       "    <tr>\n",
       "      <th>gender</th>\n",
       "      <th></th>\n",
       "    </tr>\n",
       "  </thead>\n",
       "  <tbody>\n",
       "    <tr>\n",
       "      <th>female</th>\n",
       "      <td>518</td>\n",
       "    </tr>\n",
       "    <tr>\n",
       "      <th>male</th>\n",
       "      <td>482</td>\n",
       "    </tr>\n",
       "  </tbody>\n",
       "</table>\n",
       "</div>"
      ],
      "text/plain": [
       "        gender\n",
       "gender        \n",
       "female     518\n",
       "male       482"
      ]
     },
     "execution_count": 83,
     "metadata": {},
     "output_type": "execute_result"
    }
   ],
   "source": [
    "data1.groupby('gender')[['gender']].count() "
   ]
  },
  {
   "cell_type": "code",
   "execution_count": null,
   "id": "e3627632",
   "metadata": {},
   "outputs": [],
   "source": [
    "##No.of females particpated in the test is more than males."
   ]
  },
  {
   "cell_type": "markdown",
   "id": "551c1873",
   "metadata": {},
   "source": [
    "# 2. What do you think about the students' parental level of education?"
   ]
  },
  {
   "cell_type": "code",
   "execution_count": null,
   "id": "e147e4cd",
   "metadata": {},
   "outputs": [],
   "source": [
    "## take the count of each parental level of Education"
   ]
  },
  {
   "cell_type": "code",
   "execution_count": 5,
   "id": "c2483a85",
   "metadata": {},
   "outputs": [
    {
     "data": {
      "text/html": [
       "<div>\n",
       "<style scoped>\n",
       "    .dataframe tbody tr th:only-of-type {\n",
       "        vertical-align: middle;\n",
       "    }\n",
       "\n",
       "    .dataframe tbody tr th {\n",
       "        vertical-align: top;\n",
       "    }\n",
       "\n",
       "    .dataframe thead th {\n",
       "        text-align: right;\n",
       "    }\n",
       "</style>\n",
       "<table border=\"1\" class=\"dataframe\">\n",
       "  <thead>\n",
       "    <tr style=\"text-align: right;\">\n",
       "      <th></th>\n",
       "      <th>parental level of education</th>\n",
       "    </tr>\n",
       "    <tr>\n",
       "      <th>parental level of education</th>\n",
       "      <th></th>\n",
       "    </tr>\n",
       "  </thead>\n",
       "  <tbody>\n",
       "    <tr>\n",
       "      <th>associate's degree</th>\n",
       "      <td>222</td>\n",
       "    </tr>\n",
       "    <tr>\n",
       "      <th>bachelor's degree</th>\n",
       "      <td>118</td>\n",
       "    </tr>\n",
       "    <tr>\n",
       "      <th>high school</th>\n",
       "      <td>196</td>\n",
       "    </tr>\n",
       "    <tr>\n",
       "      <th>master's degree</th>\n",
       "      <td>59</td>\n",
       "    </tr>\n",
       "    <tr>\n",
       "      <th>some college</th>\n",
       "      <td>226</td>\n",
       "    </tr>\n",
       "    <tr>\n",
       "      <th>some high school</th>\n",
       "      <td>179</td>\n",
       "    </tr>\n",
       "  </tbody>\n",
       "</table>\n",
       "</div>"
      ],
      "text/plain": [
       "                             parental level of education\n",
       "parental level of education                             \n",
       "associate's degree                                   222\n",
       "bachelor's degree                                    118\n",
       "high school                                          196\n",
       "master's degree                                       59\n",
       "some college                                         226\n",
       "some high school                                     179"
      ]
     },
     "execution_count": 5,
     "metadata": {},
     "output_type": "execute_result"
    }
   ],
   "source": [
    "data1.groupby('parental level of education')[['parental level of education']].count() "
   ]
  },
  {
   "cell_type": "code",
   "execution_count": null,
   "id": "d3678e64",
   "metadata": {},
   "outputs": [],
   "source": [
    "##Visualization of parental level of education in barplot"
   ]
  },
  {
   "cell_type": "code",
   "execution_count": 56,
   "id": "622fad9c",
   "metadata": {},
   "outputs": [
    {
     "data": {
      "image/png": "[encoded data removed]",
      "text/plain": [
       "<Figure size 720x432 with 1 Axes>"
      ]
     },
     "metadata": {
      "needs_background": "light"
     },
     "output_type": "display_data"
    }
   ],
   "source": [
    "plt.figure(figsize=(10,6))\n",
    "sns.barplot(x=data1['parental level of education'].value_counts().index,y=data1['parental level of education'].value_counts().values)\n",
    "plt.xticks(rotation=45);\n",
    "plt.xlabel('Parental level of educatiion')\n",
    "plt.ylabel('Count')\n",
    "plt.title('Parental Level of Education')\n",
    "plt.show()"
   ]
  },
  {
   "cell_type": "code",
   "execution_count": 7,
   "id": "2747834d",
   "metadata": {},
   "outputs": [],
   "source": [
    "##From this analysis,a large percentage(44.8%) of parents are having some college and associate\"s degree.Only 5.9% parents have the master\"s degree"
   ]
  },
  {
   "cell_type": "code",
   "execution_count": null,
   "id": "5454dc4a",
   "metadata": {},
   "outputs": [],
   "source": []
  },
  {
   "cell_type": "markdown",
   "id": "51fc0e0f",
   "metadata": {},
   "source": [
    "# 3. Who scores the most on average for math, reading and writing based on\n"
   ]
  },
  {
   "cell_type": "markdown",
   "id": "ecee008d",
   "metadata": {},
   "source": [
    "# a)Gender"
   ]
  },
  {
   "cell_type": "code",
   "execution_count": null,
   "id": "a7120bbd",
   "metadata": {},
   "outputs": [],
   "source": [
    "##Calculating mean of math score,reading score and writing score based on gender"
   ]
  },
  {
   "cell_type": "code",
   "execution_count": 60,
   "id": "5dd275b8",
   "metadata": {},
   "outputs": [],
   "source": [
    "gen_math=data1.groupby('gender')[['math score']].mean().nlargest(1,'math score')\n",
    "gen_read=data1.groupby('gender')[['reading score']].mean().nlargest(1,'reading score')\n",
    "gen_write=data1.groupby('gender')[['writing score']].mean().nlargest(1,'writing score')"
   ]
  },
  {
   "cell_type": "code",
   "execution_count": 61,
   "id": "23d211a0",
   "metadata": {},
   "outputs": [
    {
     "name": "stdout",
     "output_type": "stream",
     "text": [
      "The most scored average on math reading and writing: \n",
      "\n",
      "         math score\n",
      "gender            \n",
      "male     68.821577 \n",
      "\n",
      "         reading score\n",
      "gender               \n",
      "female      72.590734 \n",
      "\n",
      "         writing score\n",
      "gender               \n",
      "female      72.467181 \n",
      "\n",
      "\n"
     ]
    }
   ],
   "source": [
    "print(\"The most scored average on math reading and writing based on gender: \\n\\n\",gen_math,'\\n\\n',gen_read,'\\n\\n',gen_write,'\\n\\n')"
   ]
  },
  {
   "cell_type": "code",
   "execution_count": 11,
   "id": "1c98910e",
   "metadata": {},
   "outputs": [],
   "source": [
    "##Based on Gender, male scores the most average in math score and female scores the most in both reading score and writing score"
   ]
  },
  {
   "cell_type": "markdown",
   "id": "c5afc3fa",
   "metadata": {},
   "source": [
    "# b)Test preparation course"
   ]
  },
  {
   "cell_type": "code",
   "execution_count": null,
   "id": "00f8f785",
   "metadata": {},
   "outputs": [],
   "source": [
    "##Calculating mean of math score,reading score and writing score based on gender"
   ]
  },
  {
   "cell_type": "code",
   "execution_count": 64,
   "id": "8859433b",
   "metadata": {},
   "outputs": [],
   "source": [
    "tpc_math=data1.groupby('test preparation course')[['math score']].mean().nlargest(1,'math score')\n",
    "tpc_read=data1.groupby('test preparation course')[['reading score']].mean().nlargest(1,'reading score')\n",
    "tpc_write=data1.groupby('test preparation course')[['writing score']].mean().nlargest(1,'writing score')"
   ]
  },
  {
   "cell_type": "code",
   "execution_count": 65,
   "id": "7d07eb74",
   "metadata": {},
   "outputs": [
    {
     "name": "stdout",
     "output_type": "stream",
     "text": [
      "The most scored average on math reading and writing based on Test preparation course: \n",
      "\n",
      "                          math score\n",
      "test preparation course            \n",
      "completed                  69.96648 \n",
      "\n",
      "                          reading score\n",
      "test preparation course               \n",
      "completed                    74.175978 \n",
      "\n",
      "                          writing score\n",
      "test preparation course               \n",
      "completed                    74.684358 \n",
      "\n",
      "\n"
     ]
    }
   ],
   "source": [
    "print(\"The most scored average on math reading and writing based on Test preparation course: \\n\\n\",tpc_math,'\\n\\n',tpc_read,'\\n\\n',tpc_write,'\\n\\n')"
   ]
  },
  {
   "cell_type": "code",
   "execution_count": null,
   "id": "51073923",
   "metadata": {},
   "outputs": [],
   "source": [
    "## most average of math, reading and writing is of completed in test preparaton course"
   ]
  },
  {
   "cell_type": "markdown",
   "id": "a89c4c77",
   "metadata": {},
   "source": [
    "# 4. What do you think about the scoring variation for math, reading and writing based on"
   ]
  },
  {
   "cell_type": "markdown",
   "id": "2e76eb1f",
   "metadata": {},
   "source": [
    "# a)Gender"
   ]
  },
  {
   "cell_type": "code",
   "execution_count": null,
   "id": "810b5f9a",
   "metadata": {},
   "outputs": [],
   "source": [
    "##calculating the variations based on gender"
   ]
  },
  {
   "cell_type": "code",
   "execution_count": 16,
   "id": "8bef9b71",
   "metadata": {},
   "outputs": [],
   "source": [
    "gen_math_var=data1.groupby('gender')[['math score']].var()\n",
    "gen_read_var=data1.groupby('gender')[['reading score']].var()\n",
    "gen_write_var=data1.groupby('gender')[['writing score']].var()"
   ]
  },
  {
   "cell_type": "code",
   "execution_count": 17,
   "id": "73f8f471",
   "metadata": {},
   "outputs": [
    {
     "name": "stdout",
     "output_type": "stream",
     "text": [
      "Scoring variaton for math,reading and writing based on gender: \n",
      "\n",
      "         math score\n",
      "gender            \n",
      "female  256.958593\n",
      "male    211.889097 \n",
      "\n",
      "         reading score\n",
      "gender               \n",
      "female     207.677438\n",
      "male       200.211010 \n",
      "\n",
      "         writing score\n",
      "gender               \n",
      "female     220.369327\n",
      "male       202.413924\n"
     ]
    }
   ],
   "source": [
    "print(\"Scoring variaton for math,reading and writing based on gender: \\n\\n\",gen_math_var,\"\\n\\n\",gen_read_var,\"\\n\\n\",gen_write_var)"
   ]
  },
  {
   "cell_type": "code",
   "execution_count": null,
   "id": "953aef6a",
   "metadata": {},
   "outputs": [],
   "source": [
    "##For math,readng and writing scoring variaton is more for female"
   ]
  },
  {
   "cell_type": "markdown",
   "id": "33d20b60",
   "metadata": {},
   "source": [
    "# b)Test preparation course"
   ]
  },
  {
   "cell_type": "code",
   "execution_count": null,
   "id": "c51bee92",
   "metadata": {},
   "outputs": [],
   "source": [
    "##Calculating the variations based on Test preparation course"
   ]
  },
  {
   "cell_type": "code",
   "execution_count": 18,
   "id": "807b5172",
   "metadata": {},
   "outputs": [],
   "source": [
    "tpc_math_var=data1.groupby('test preparation course')[['math score']].var()\n",
    "tpc_read_var=data1.groupby('test preparation course')[['reading score']].var()\n",
    "tpc_write_var=data1.groupby('test preparation course')[['writing score']].var()"
   ]
  },
  {
   "cell_type": "code",
   "execution_count": 19,
   "id": "3146ccb9",
   "metadata": {
    "scrolled": true
   },
   "outputs": [
    {
     "name": "stdout",
     "output_type": "stream",
     "text": [
      "Scoring variaton for math,reading and writing based on test preparation course: \n",
      "\n",
      "                          math score\n",
      "test preparation course            \n",
      "completed                210.884027\n",
      "none                     246.668662 \n",
      "\n",
      "                          reading score\n",
      "test preparation course               \n",
      "completed                   183.265864\n",
      "none                        213.419851 \n",
      "\n",
      "                          writing score\n",
      "test preparation course               \n",
      "completed                   175.202612\n",
      "none                        226.251739\n"
     ]
    }
   ],
   "source": [
    "print(\"Scoring variaton for math,reading and writing based on test preparation course: \\n\\n\",tpc_math_var,\"\\n\\n\",tpc_read_var,\"\\n\\n\",tpc_write_var)"
   ]
  },
  {
   "cell_type": "code",
   "execution_count": 66,
   "id": "2aa4b7fb",
   "metadata": {},
   "outputs": [],
   "source": [
    "##In Test preparaton course,none has the more variaton for math reading and writing scores\n"
   ]
  },
  {
   "cell_type": "markdown",
   "id": "45ee9822",
   "metadata": {},
   "source": [
    "# 5. The management needs your help to give bonus points to the top 25% ofstudents based on their maths score, so how will you help the managementto achieve this."
   ]
  },
  {
   "cell_type": "code",
   "execution_count": null,
   "id": "44b283bb",
   "metadata": {},
   "outputs": [],
   "source": [
    "##To find the quartile"
   ]
  },
  {
   "cell_type": "code",
   "execution_count": 80,
   "id": "996b97c1",
   "metadata": {},
   "outputs": [
    {
     "data": {
      "text/html": [
       "<div>\n",
       "<style scoped>\n",
       "    .dataframe tbody tr th:only-of-type {\n",
       "        vertical-align: middle;\n",
       "    }\n",
       "\n",
       "    .dataframe tbody tr th {\n",
       "        vertical-align: top;\n",
       "    }\n",
       "\n",
       "    .dataframe thead th {\n",
       "        text-align: right;\n",
       "    }\n",
       "</style>\n",
       "<table border=\"1\" class=\"dataframe\">\n",
       "  <thead>\n",
       "    <tr style=\"text-align: right;\">\n",
       "      <th></th>\n",
       "      <th>math score</th>\n",
       "      <th>reading score</th>\n",
       "      <th>writing score</th>\n",
       "    </tr>\n",
       "  </thead>\n",
       "  <tbody>\n",
       "    <tr>\n",
       "      <th>count</th>\n",
       "      <td>1000.000000</td>\n",
       "      <td>1000.000000</td>\n",
       "      <td>1000.000000</td>\n",
       "    </tr>\n",
       "    <tr>\n",
       "      <th>mean</th>\n",
       "      <td>66.001000</td>\n",
       "      <td>69.195000</td>\n",
       "      <td>68.119000</td>\n",
       "    </tr>\n",
       "    <tr>\n",
       "      <th>std</th>\n",
       "      <td>15.569567</td>\n",
       "      <td>14.706436</td>\n",
       "      <td>15.226381</td>\n",
       "    </tr>\n",
       "    <tr>\n",
       "      <th>min</th>\n",
       "      <td>0.000000</td>\n",
       "      <td>17.000000</td>\n",
       "      <td>10.000000</td>\n",
       "    </tr>\n",
       "    <tr>\n",
       "      <th>25%</th>\n",
       "      <td>57.000000</td>\n",
       "      <td>59.000000</td>\n",
       "      <td>58.000000</td>\n",
       "    </tr>\n",
       "    <tr>\n",
       "      <th>50%</th>\n",
       "      <td>66.000000</td>\n",
       "      <td>70.000000</td>\n",
       "      <td>69.000000</td>\n",
       "    </tr>\n",
       "    <tr>\n",
       "      <th>75%</th>\n",
       "      <td>77.000000</td>\n",
       "      <td>79.250000</td>\n",
       "      <td>79.000000</td>\n",
       "    </tr>\n",
       "    <tr>\n",
       "      <th>max</th>\n",
       "      <td>100.000000</td>\n",
       "      <td>100.000000</td>\n",
       "      <td>100.000000</td>\n",
       "    </tr>\n",
       "  </tbody>\n",
       "</table>\n",
       "</div>"
      ],
      "text/plain": [
       "        math score  reading score  writing score\n",
       "count  1000.000000    1000.000000    1000.000000\n",
       "mean     66.001000      69.195000      68.119000\n",
       "std      15.569567      14.706436      15.226381\n",
       "min       0.000000      17.000000      10.000000\n",
       "25%      57.000000      59.000000      58.000000\n",
       "50%      66.000000      70.000000      69.000000\n",
       "75%      77.000000      79.250000      79.000000\n",
       "max     100.000000     100.000000     100.000000"
      ]
     },
     "execution_count": 80,
     "metadata": {},
     "output_type": "execute_result"
    }
   ],
   "source": [
    "data1.describe()"
   ]
  },
  {
   "cell_type": "code",
   "execution_count": 81,
   "id": "b6ea8d6c",
   "metadata": {},
   "outputs": [],
   "source": [
    "##By this the 3rd quartile comes 77 for math score.Based on that management can select the students from who got the maximum score(100) to the studets got the score 77 to give the bonus"
   ]
  }
 ],
 "metadata": {
  "kernelspec": {
   "display_name": "Python 3",
   "language": "python",
   "name": "python3"
  },
  "language_info": {
   "codemirror_mode": {
    "name": "ipython",
    "version": 3
   },
   "file_extension": ".py",
   "mimetype": "text/x-python",
   "name": "python",
   "nbconvert_exporter": "python",
   "pygments_lexer": "ipython3",
   "version": "3.8.8"
  }
 },
 "nbformat": 4,
 "nbformat_minor": 5
}
